{
 "cells": [
  {
   "cell_type": "markdown",
   "metadata": {},
   "source": [
    "## POS tagging using modified Viterbi"
   ]
  },
  {
   "cell_type": "markdown",
   "metadata": {},
   "source": [
    "### Data Preparation"
   ]
  },
  {
   "cell_type": "code",
   "execution_count": 4,
   "metadata": {},
   "outputs": [],
   "source": [
    "#Importing libraries\n",
    "import nltk\n",
    "import numpy as np\n",
    "import pandas as pd\n",
    "import random\n",
    "from sklearn.model_selection import train_test_split"
   ]
  },
  {
   "cell_type": "code",
   "execution_count": 5,
   "metadata": {},
   "outputs": [],
   "source": [
    "# reading the Treebank tagged sentences\n",
    "nltk_data = list(nltk.corpus.treebank.tagged_sents(tagset='universal'))"
   ]
  },
  {
   "cell_type": "markdown",
   "metadata": {},
   "source": [
    "### Exploring The Data"
   ]
  },
  {
   "cell_type": "markdown",
   "metadata": {},
   "source": [
    "Printing out first three sentences to check the tuples of words and their corresponding POS tags."
   ]
  },
  {
   "cell_type": "code",
   "execution_count": 6,
   "metadata": {},
   "outputs": [
    {
     "name": "stdout",
     "output_type": "stream",
     "text": [
      "[[('Pierre', 'NOUN'), ('Vinken', 'NOUN'), (',', '.'), ('61', 'NUM'), ('years', 'NOUN'), ('old', 'ADJ'), (',', '.'), ('will', 'VERB'), ('join', 'VERB'), ('the', 'DET'), ('board', 'NOUN'), ('as', 'ADP'), ('a', 'DET'), ('nonexecutive', 'ADJ'), ('director', 'NOUN'), ('Nov.', 'NOUN'), ('29', 'NUM'), ('.', '.')], [('Mr.', 'NOUN'), ('Vinken', 'NOUN'), ('is', 'VERB'), ('chairman', 'NOUN'), ('of', 'ADP'), ('Elsevier', 'NOUN'), ('N.V.', 'NOUN'), (',', '.'), ('the', 'DET'), ('Dutch', 'NOUN'), ('publishing', 'VERB'), ('group', 'NOUN'), ('.', '.')], [('Rudolph', 'NOUN'), ('Agnew', 'NOUN'), (',', '.'), ('55', 'NUM'), ('years', 'NOUN'), ('old', 'ADJ'), ('and', 'CONJ'), ('former', 'ADJ'), ('chairman', 'NOUN'), ('of', 'ADP'), ('Consolidated', 'NOUN'), ('Gold', 'NOUN'), ('Fields', 'NOUN'), ('PLC', 'NOUN'), (',', '.'), ('was', 'VERB'), ('named', 'VERB'), ('*-1', 'X'), ('a', 'DET'), ('nonexecutive', 'ADJ'), ('director', 'NOUN'), ('of', 'ADP'), ('this', 'DET'), ('British', 'ADJ'), ('industrial', 'ADJ'), ('conglomerate', 'NOUN'), ('.', '.')]]\n"
     ]
    }
   ],
   "source": [
    "print(nltk_data[:3])"
   ]
  },
  {
   "cell_type": "markdown",
   "metadata": {},
   "source": [
    "Flattening out the sentences into tuple pairs of words and corresponding POS tags."
   ]
  },
  {
   "cell_type": "code",
   "execution_count": 7,
   "metadata": {},
   "outputs": [
    {
     "name": "stdout",
     "output_type": "stream",
     "text": [
      "Length Of Tagged Words:  100676\n",
      "First few pairs:  [('Pierre', 'NOUN'), ('Vinken', 'NOUN'), (',', '.'), ('61', 'NUM')]\n"
     ]
    }
   ],
   "source": [
    "tagged_words = [tup for sent in nltk_data for tup in sent]\n",
    "print(\"Length Of Tagged Words: \",len(tagged_words))\n",
    "print(\"First few pairs: \",tagged_words[:4])"
   ]
  },
  {
   "cell_type": "markdown",
   "metadata": {},
   "source": [
    "Let's look at the unique words and the unique POS tags in the corpora."
   ]
  },
  {
   "cell_type": "code",
   "execution_count": 8,
   "metadata": {},
   "outputs": [],
   "source": [
    "def get_unique_words(tagged_words = tagged_words):\n",
    "    \"\"\"\n",
    "    Generates unique words from given tagged tuples.\n",
    "    \n",
    "    @Author: Aryan Singh\n",
    "    \"\"\"\n",
    "    words = [tup[0] for tup in tagged_words]\n",
    "    unique_words = set(words)\n",
    "    return unique_words"
   ]
  },
  {
   "cell_type": "code",
   "execution_count": 9,
   "metadata": {},
   "outputs": [
    {
     "name": "stdout",
     "output_type": "stream",
     "text": [
      "12408\n"
     ]
    }
   ],
   "source": [
    "unique_words = get_unique_words()\n",
    "print(len(unique_words))"
   ]
  },
  {
   "cell_type": "markdown",
   "metadata": {},
   "source": [
    " Let's look at all the unique tags according to the corporus"
   ]
  },
  {
   "cell_type": "code",
   "execution_count": 10,
   "metadata": {},
   "outputs": [],
   "source": [
    "def get_unique_tags(tagged_words = tagged_words):\n",
    "    \"\"\"\n",
    "    Generates all unique tags from labelled tuples.\n",
    "    \n",
    "    @Author: Aryan Singh\n",
    "    \"\"\"\n",
    "    tags = [tup[1] for tup in tagged_words]\n",
    "    unique_tags = set(tags)\n",
    "    return unique_tags"
   ]
  },
  {
   "cell_type": "code",
   "execution_count": 11,
   "metadata": {},
   "outputs": [
    {
     "name": "stdout",
     "output_type": "stream",
     "text": [
      "{'ADP', 'CONJ', '.', 'ADV', 'NUM', 'X', 'VERB', 'PRON', 'DET', 'NOUN', 'PRT', 'ADJ'}\n"
     ]
    }
   ],
   "source": [
    "unique_tags = get_unique_tags()\n",
    "print(unique_tags)"
   ]
  },
  {
   "cell_type": "markdown",
   "metadata": {},
   "source": [
    "Let's look at most frequent POS tags and words"
   ]
  },
  {
   "cell_type": "code",
   "execution_count": 13,
   "metadata": {},
   "outputs": [
    {
     "data": {
      "text/plain": [
       "[('NOUN', 28867),\n",
       " ('VERB', 13564),\n",
       " ('.', 11715),\n",
       " ('ADP', 9857),\n",
       " ('DET', 8725),\n",
       " ('X', 6613),\n",
       " ('ADJ', 6397),\n",
       " ('NUM', 3546),\n",
       " ('PRT', 3219),\n",
       " ('ADV', 3171),\n",
       " ('PRON', 2737),\n",
       " ('CONJ', 2265)]"
      ]
     },
     "execution_count": 13,
     "metadata": {},
     "output_type": "execute_result"
    }
   ],
   "source": [
    "from collections import Counter\n",
    "tags = [tup[1] for tup in tagged_words]\n",
    "tag_counts = Counter(tags)\n",
    "tag_counts.most_common()"
   ]
  },
  {
   "cell_type": "markdown",
   "metadata": {},
   "source": [
    "Let's define a method to find the most common tag assigned to a particular word."
   ]
  },
  {
   "cell_type": "code",
   "execution_count": 14,
   "metadata": {},
   "outputs": [],
   "source": [
    "def get_most_common_tag(word):\n",
    "    \"\"\"\n",
    "    Get the most common tag for a word. For basic unigram POS tagger\n",
    "    \n",
    "    @Author Aryan Singh\n",
    "    \"\"\"\n",
    "    tags = [tup[1] for tup in tagged_words if tup[0]==word]\n",
    "    ct = Counter(tags).most_common(1)\n",
    "    if not ct or ct==[]:\n",
    "        return 'UNKNOWN'\n",
    "    else:\n",
    "        return ct[0][0]"
   ]
  },
  {
   "cell_type": "code",
   "execution_count": 15,
   "metadata": {},
   "outputs": [
    {
     "data": {
      "text/plain": [
       "'NOUN'"
      ]
     },
     "execution_count": 15,
     "metadata": {},
     "output_type": "execute_result"
    }
   ],
   "source": [
    "get_most_common_tag('Pierre')"
   ]
  },
  {
   "cell_type": "code",
   "execution_count": 16,
   "metadata": {},
   "outputs": [],
   "source": [
    "def get_tags_word_end(tagged_words, ending, tag):\n",
    "    \"\"\"\n",
    "    Method that takes in the ending and tag to find the\n",
    "    percentage of words with that tag and that particular ending.\n",
    "       \n",
    "    @Author Aryan Singh\n",
    "    \"\"\"\n",
    "    words_with_tag = [pair for pair in tagged_words if pair[1]==tag]\n",
    "    end_pos = [pair for pair in words_with_tag if pair[0].endswith(ending)]\n",
    "    return round((len(end_pos)*100.0/len(words_with_tag)),2)"
   ]
  },
  {
   "cell_type": "markdown",
   "metadata": {},
   "source": [
    "Basic Analysis For Verbs"
   ]
  },
  {
   "cell_type": "markdown",
   "metadata": {},
   "source": [
    "Check percentage of verbs ending with ed and ing."
   ]
  },
  {
   "cell_type": "code",
   "execution_count": 17,
   "metadata": {},
   "outputs": [
    {
     "data": {
      "text/plain": [
       "20.69"
      ]
     },
     "execution_count": 17,
     "metadata": {},
     "output_type": "execute_result"
    }
   ],
   "source": [
    "get_tags_word_end(tagged_words,'ed','VERB')"
   ]
  },
  {
   "cell_type": "code",
   "execution_count": 18,
   "metadata": {},
   "outputs": [
    {
     "data": {
      "text/plain": [
       "10.85"
      ]
     },
     "execution_count": 18,
     "metadata": {},
     "output_type": "execute_result"
    }
   ],
   "source": [
    "get_tags_word_end(tagged_words,'ing','VERB')"
   ]
  },
  {
   "cell_type": "markdown",
   "metadata": {},
   "source": [
    "**Check how many tags follow another tag**"
   ]
  },
  {
   "cell_type": "code",
   "execution_count": 19,
   "metadata": {},
   "outputs": [],
   "source": [
    "def check_tag_followup(tags, tag1, tag2):\n",
    "    \"\"\"\n",
    "    Method that checks percentage of instances where\n",
    "    tag2 follows tag1 as compared to total number of occurences of tag1.\n",
    "    \n",
    "    @Author Aryan Singh\n",
    "    \"\"\"\n",
    "    words_with_tag = [tag for tag in tags if tag==tag1]\n",
    "    tags_t1_t2 = [(t, tags[i+1]) for i,t in enumerate(tags) if t==tag1 and tags[i+1]==tag2]\n",
    "    return round((len(tags_t1_t2)*100.0/len(words_with_tag)),2)"
   ]
  },
  {
   "cell_type": "markdown",
   "metadata": {},
   "source": [
    "Adjective followed by a noun"
   ]
  },
  {
   "cell_type": "code",
   "execution_count": 20,
   "metadata": {},
   "outputs": [
    {
     "data": {
      "text/plain": [
       "69.94"
      ]
     },
     "execution_count": 20,
     "metadata": {},
     "output_type": "execute_result"
    }
   ],
   "source": [
    "check_tag_followup(tags, 'ADJ', 'NOUN')"
   ]
  },
  {
   "cell_type": "markdown",
   "metadata": {},
   "source": [
    "So adjective is followed by a noun is almost 70% of the cases. This can be a good rule to find POS tags for unknown words."
   ]
  },
  {
   "cell_type": "markdown",
   "metadata": {},
   "source": [
    "### Build the vanilla Viterbi based POS tagger"
   ]
  },
  {
   "cell_type": "markdown",
   "metadata": {},
   "source": [
    "For the purpose of building a Viterbi heuristic and HMM based POS tagger First we need to calculate the **transmission probabilities(p(next tag/prev tag))** and **emission probabilities(p(word/tag))**. Then we can calculate the **p(tag/word) = emission prob * transmission prob**. In transmission prob. only the previous tag metters fue to the Markovian assumption."
   ]
  },
  {
   "cell_type": "markdown",
   "metadata": {},
   "source": [
    "### Split into train and test dataset"
   ]
  },
  {
   "cell_type": "code",
   "execution_count": 21,
   "metadata": {},
   "outputs": [
    {
     "name": "stdout",
     "output_type": "stream",
     "text": [
      "3718\n",
      "196\n",
      "[[('No', 'DET'), ('one', 'PRON'), ('speaks', 'VERB'), (',', '.'), ('and', 'CONJ'), ('the', 'DET'), ('snaking', 'VERB'), ('of', 'ADP'), ('the', 'DET'), ('ropes', 'NOUN'), ('seems', 'VERB'), ('*-1', 'X'), ('to', 'PRT'), ('make', 'VERB'), ('as', 'ADP'), ('much', 'ADJ'), ('sound', 'NOUN'), ('as', 'ADP'), ('the', 'DET'), ('bells', 'NOUN'), ('themselves', 'PRON'), ('*?*', 'X'), (',', '.'), ('*-2', 'X'), ('muffled', 'VERB'), ('*-3', 'X'), ('by', 'ADP'), ('the', 'DET'), ('ceiling', 'NOUN'), ('.', '.')], [('They', 'PRON'), ('fell', 'VERB'), ('into', 'ADP'), ('oblivion', 'NOUN'), ('after', 'ADP'), ('the', 'DET'), ('1929', 'NUM'), ('crash', 'NOUN'), ('.', '.')], [('It', 'PRON'), ('would', 'VERB'), ('contradict', 'VERB'), ('that', 'DET'), ('objective', 'NOUN'), ('if', 'ADP'), ('the', 'DET'), ('appropriations', 'NOUN'), ('clause', 'NOUN'), ('-LRB-', '.'), ('technically', 'ADV'), ('a', 'DET'), ('limitation', 'NOUN'), ('on', 'ADP'), ('legislative', 'ADJ'), ('power', 'NOUN'), ('-RRB-', '.'), ('could', 'VERB'), ('be', 'VERB'), ('read', 'VERB'), ('*-52', 'X'), ('as', 'ADP'), ('*-52', 'X'), ('placing', 'VERB'), ('the', 'DET'), ('president', 'NOUN'), ('on', 'ADP'), ('Congress', 'NOUN'), (\"'s\", 'PRT'), ('short', 'ADJ'), ('leash', 'NOUN'), (',', '.'), ('*-52', 'X'), ('making', 'VERB'), ('the', 'DET'), ('executive', 'NOUN'), ('consist', 'VERB'), ('of', 'ADP'), ('the', 'DET'), ('president', 'NOUN'), ('and', 'CONJ'), ('every', 'DET'), ('member', 'NOUN'), ('of', 'ADP'), ('Congress', 'NOUN'), ('.', '.')]]\n"
     ]
    }
   ],
   "source": [
    "# Splitting into train and test\n",
    "random.seed(1234)\n",
    "train_set, test_set = train_test_split(nltk_data,test_size=0.05)\n",
    "\n",
    "print(len(train_set))\n",
    "print(len(test_set))\n",
    "print(train_set[:3])"
   ]
  },
  {
   "cell_type": "code",
   "execution_count": 22,
   "metadata": {},
   "outputs": [
    {
     "data": {
      "text/plain": [
       "95705"
      ]
     },
     "execution_count": 22,
     "metadata": {},
     "output_type": "execute_result"
    }
   ],
   "source": [
    "# Getting list of tagged words\n",
    "train_tagged_words = [tup for sent in train_set for tup in sent]\n",
    "len(train_tagged_words)"
   ]
  },
  {
   "cell_type": "code",
   "execution_count": 23,
   "metadata": {},
   "outputs": [
    {
     "data": {
      "text/plain": [
       "12086"
      ]
     },
     "execution_count": 23,
     "metadata": {},
     "output_type": "execute_result"
    }
   ],
   "source": [
    "V = get_unique_words(tagged_words = train_tagged_words)\n",
    "len(V)"
   ]
  },
  {
   "cell_type": "code",
   "execution_count": 24,
   "metadata": {},
   "outputs": [
    {
     "data": {
      "text/plain": [
       "12"
      ]
     },
     "execution_count": 24,
     "metadata": {},
     "output_type": "execute_result"
    }
   ],
   "source": [
    "# number of tags\n",
    "T = get_unique_tags(tagged_words = train_tagged_words)\n",
    "len(T)"
   ]
  },
  {
   "cell_type": "markdown",
   "metadata": {},
   "source": [
    "## Emission Probabilities"
   ]
  },
  {
   "cell_type": "code",
   "execution_count": 25,
   "metadata": {},
   "outputs": [],
   "source": [
    "t = len(T)\n",
    "v = len(V)\n",
    "w_given_t = np.zeros((t, v))"
   ]
  },
  {
   "cell_type": "code",
   "execution_count": 41,
   "metadata": {},
   "outputs": [],
   "source": [
    "# compute word given tag: Emission Probability\n",
    "tag_dict = {}\n",
    "def word_given_tag(word, tag, train_bag = train_tagged_words):\n",
    "    \"\"\"\n",
    "    Calculate emssion probability of a word given a tag.\n",
    "    \n",
    "    @Author Aryan Singh\n",
    "    \"\"\"\n",
    "    tag_list = []\n",
    "    if(tag in tag_dict):\n",
    "        tag_list = tag_dict[tag]\n",
    "    else:\n",
    "        tag_list = [pair for pair in train_bag if pair[1]==tag]\n",
    "        tag_dict[tag] = tag_list\n",
    "    count_tag = len(tag_list)\n",
    "    w_given_tag_list = [pair[0] for pair in tag_list if pair[0]==word]\n",
    "    count_w_given_tag = len(w_given_tag_list)\n",
    "    return count_w_given_tag/count_tag"
   ]
  },
  {
   "cell_type": "code",
   "execution_count": 42,
   "metadata": {},
   "outputs": [
    {
     "name": "stdout",
     "output_type": "stream",
     "text": [
      "0.004445176160684887\n"
     ]
    }
   ],
   "source": [
    "# Check for emission prob of large against Adjective\n",
    "print(word_given_tag('large', 'ADJ'))"
   ]
  },
  {
   "cell_type": "code",
   "execution_count": 43,
   "metadata": {},
   "outputs": [
    {
     "name": "stdout",
     "output_type": "stream",
     "text": [
      "0.0\n"
     ]
    }
   ],
   "source": [
    "# Check for an unknown word\n",
    "print(word_given_tag('Android','NOUN')) "
   ]
  },
  {
   "cell_type": "markdown",
   "metadata": {},
   "source": [
    "## Transition Probabilities"
   ]
  },
  {
   "cell_type": "code",
   "execution_count": 125,
   "metadata": {},
   "outputs": [],
   "source": [
    "def t2_given_t1(t2, t1, train_bag = train_tagged_words):\n",
    "    \"\"\"\n",
    "    Compute tag given tag: tag2(t2) given tag1 (t1), i.e. Transition Probability\n",
    "    \n",
    "    @Author Aryan Singh\n",
    "    \"\"\"\n",
    "    tags = [pair[1] for pair in train_bag]\n",
    "    count_t1 = len([t for t in tags if t==t1])\n",
    "    count_t2_t1 = 0\n",
    "    for index in range(len(tags)-1):\n",
    "        if tags[index]==t1 and tags[index+1] == t2:\n",
    "            count_t2_t1 += 1\n",
    "    return count_t2_t1/count_t1"
   ]
  },
  {
   "cell_type": "code",
   "execution_count": 30,
   "metadata": {},
   "outputs": [
    {
     "name": "stdout",
     "output_type": "stream",
     "text": [
      "0.6992097464603226\n"
     ]
    }
   ],
   "source": [
    "# Checking it once\n",
    "print(t2_given_t1(t2='NOUN', t1='ADJ'))"
   ]
  },
  {
   "cell_type": "markdown",
   "metadata": {},
   "source": [
    "Check What percentage of tags appear at the start of sentences."
   ]
  },
  {
   "cell_type": "code",
   "execution_count": 31,
   "metadata": {},
   "outputs": [
    {
     "name": "stdout",
     "output_type": "stream",
     "text": [
      "0.22095528820254984\n",
      "0.08843598491650206\n",
      "0.06563117256239899\n"
     ]
    }
   ],
   "source": [
    "#Please note P(tag|start) is same as P(tag|'.')\n",
    "print(t2_given_t1('NOUN', '.'))\n",
    "print(t2_given_t1('VERB', '.'))\n",
    "print(t2_given_t1('PRON', '.'))"
   ]
  },
  {
   "cell_type": "markdown",
   "metadata": {},
   "source": [
    "### Transition Probability Matrix"
   ]
  },
  {
   "cell_type": "code",
   "execution_count": 32,
   "metadata": {},
   "outputs": [],
   "source": [
    "# creating t x t transition matrix of tags\n",
    "# each column is t2, each row is t1\n",
    "# thus M(i, j) represents P(tj given ti)\n",
    "\n",
    "tags_matrix = np.zeros((len(T), len(T)), dtype='float32')\n",
    "for i, t1 in enumerate(list(T)):\n",
    "    for j, t2 in enumerate(list(T)): \n",
    "        tags_matrix[i, j] = t2_given_t1(t2, t1)"
   ]
  },
  {
   "cell_type": "code",
   "execution_count": 34,
   "metadata": {},
   "outputs": [
    {
     "data": {
      "text/html": [
       "<div>\n",
       "<style scoped>\n",
       "    .dataframe tbody tr th:only-of-type {\n",
       "        vertical-align: middle;\n",
       "    }\n",
       "\n",
       "    .dataframe tbody tr th {\n",
       "        vertical-align: top;\n",
       "    }\n",
       "\n",
       "    .dataframe thead th {\n",
       "        text-align: right;\n",
       "    }\n",
       "</style>\n",
       "<table border=\"1\" class=\"dataframe\">\n",
       "  <thead>\n",
       "    <tr style=\"text-align: right;\">\n",
       "      <th></th>\n",
       "      <th>CONJ</th>\n",
       "      <th>ADP</th>\n",
       "      <th>.</th>\n",
       "      <th>ADV</th>\n",
       "      <th>NUM</th>\n",
       "      <th>PRON</th>\n",
       "      <th>VERB</th>\n",
       "      <th>X</th>\n",
       "      <th>DET</th>\n",
       "      <th>NOUN</th>\n",
       "      <th>PRT</th>\n",
       "      <th>ADJ</th>\n",
       "    </tr>\n",
       "  </thead>\n",
       "  <tbody>\n",
       "    <tr>\n",
       "      <th>CONJ</th>\n",
       "      <td>0.000464</td>\n",
       "      <td>0.051532</td>\n",
       "      <td>0.036676</td>\n",
       "      <td>0.055246</td>\n",
       "      <td>0.041783</td>\n",
       "      <td>0.058496</td>\n",
       "      <td>0.157846</td>\n",
       "      <td>0.008357</td>\n",
       "      <td>0.119777</td>\n",
       "      <td>0.349118</td>\n",
       "      <td>0.004178</td>\n",
       "      <td>0.116527</td>\n",
       "    </tr>\n",
       "    <tr>\n",
       "      <th>ADP</th>\n",
       "      <td>0.000748</td>\n",
       "      <td>0.016893</td>\n",
       "      <td>0.040308</td>\n",
       "      <td>0.013151</td>\n",
       "      <td>0.061478</td>\n",
       "      <td>0.069496</td>\n",
       "      <td>0.008019</td>\n",
       "      <td>0.034748</td>\n",
       "      <td>0.325457</td>\n",
       "      <td>0.321608</td>\n",
       "      <td>0.001390</td>\n",
       "      <td>0.106704</td>\n",
       "    </tr>\n",
       "    <tr>\n",
       "      <th>.</th>\n",
       "      <td>0.058179</td>\n",
       "      <td>0.090411</td>\n",
       "      <td>0.094092</td>\n",
       "      <td>0.053331</td>\n",
       "      <td>0.081792</td>\n",
       "      <td>0.065631</td>\n",
       "      <td>0.088436</td>\n",
       "      <td>0.027563</td>\n",
       "      <td>0.173011</td>\n",
       "      <td>0.220955</td>\n",
       "      <td>0.002334</td>\n",
       "      <td>0.044173</td>\n",
       "    </tr>\n",
       "    <tr>\n",
       "      <th>ADV</th>\n",
       "      <td>0.007280</td>\n",
       "      <td>0.120119</td>\n",
       "      <td>0.135341</td>\n",
       "      <td>0.079087</td>\n",
       "      <td>0.030113</td>\n",
       "      <td>0.015222</td>\n",
       "      <td>0.343812</td>\n",
       "      <td>0.023163</td>\n",
       "      <td>0.069821</td>\n",
       "      <td>0.031105</td>\n",
       "      <td>0.013567</td>\n",
       "      <td>0.131370</td>\n",
       "    </tr>\n",
       "    <tr>\n",
       "      <th>NUM</th>\n",
       "      <td>0.013777</td>\n",
       "      <td>0.035040</td>\n",
       "      <td>0.113208</td>\n",
       "      <td>0.002396</td>\n",
       "      <td>0.185385</td>\n",
       "      <td>0.001198</td>\n",
       "      <td>0.018568</td>\n",
       "      <td>0.215633</td>\n",
       "      <td>0.003294</td>\n",
       "      <td>0.353699</td>\n",
       "      <td>0.024558</td>\n",
       "      <td>0.033243</td>\n",
       "    </tr>\n",
       "  </tbody>\n",
       "</table>\n",
       "</div>"
      ],
      "text/plain": [
       "          CONJ       ADP         .       ADV       NUM      PRON      VERB  \\\n",
       "CONJ  0.000464  0.051532  0.036676  0.055246  0.041783  0.058496  0.157846   \n",
       "ADP   0.000748  0.016893  0.040308  0.013151  0.061478  0.069496  0.008019   \n",
       ".     0.058179  0.090411  0.094092  0.053331  0.081792  0.065631  0.088436   \n",
       "ADV   0.007280  0.120119  0.135341  0.079087  0.030113  0.015222  0.343812   \n",
       "NUM   0.013777  0.035040  0.113208  0.002396  0.185385  0.001198  0.018568   \n",
       "\n",
       "             X       DET      NOUN       PRT       ADJ  \n",
       "CONJ  0.008357  0.119777  0.349118  0.004178  0.116527  \n",
       "ADP   0.034748  0.325457  0.321608  0.001390  0.106704  \n",
       ".     0.027563  0.173011  0.220955  0.002334  0.044173  \n",
       "ADV   0.023163  0.069821  0.031105  0.013567  0.131370  \n",
       "NUM   0.215633  0.003294  0.353699  0.024558  0.033243  "
      ]
     },
     "execution_count": 34,
     "metadata": {},
     "output_type": "execute_result"
    }
   ],
   "source": [
    "# convert the matrix to a df for better readability\n",
    "tags_df = pd.DataFrame(tags_matrix, columns = list(T), index=list(T))\n",
    "tags_df.head()"
   ]
  },
  {
   "cell_type": "markdown",
   "metadata": {},
   "source": [
    "**Heat Map Of Frequent Tags**"
   ]
  },
  {
   "cell_type": "code",
   "execution_count": 38,
   "metadata": {},
   "outputs": [],
   "source": [
    "import matplotlib.pyplot as plt\n",
    "import seaborn as sns"
   ]
  },
  {
   "cell_type": "code",
   "execution_count": 40,
   "metadata": {},
   "outputs": [
    {
     "data": {
      "image/png": "[encoded data removed]",
      "text/plain": [
       "<Figure size 1296x864 with 2 Axes>"
      ]
     },
     "metadata": {},
     "output_type": "display_data"
    }
   ],
   "source": [
    "# frequent tags\n",
    "# filter the df to get P(t2, t1) > 0.5\n",
    "tags_frequent = tags_df[tags_df>0.5]\n",
    "plt.figure(figsize=(18, 12))\n",
    "sns.heatmap(tags_frequent,cmap = 'YlGnBu')\n",
    "plt.show()"
   ]
  },
  {
   "cell_type": "markdown",
   "metadata": {},
   "source": [
    "**Vanilla Viterbi based HMM method**"
   ]
  },
  {
   "cell_type": "code",
   "execution_count": 60,
   "metadata": {},
   "outputs": [],
   "source": [
    "# Vanilla Viterbi Heuristic\n",
    "def Viterbi(words, train_bag = train_tagged_words):\n",
    "    state = []\n",
    "    T = list(set([pair[1] for pair in train_bag]))\n",
    "    # training tags\n",
    "    for key, word in enumerate(words):\n",
    "        #initialise list of probability column for a given observation\n",
    "        p = [] \n",
    "        for tag in T:\n",
    "            if key == 0:\n",
    "                transition_p = tags_df.loc['.', tag]\n",
    "            else:\n",
    "                transition_p = tags_df.loc[state[-1], tag]\n",
    "                \n",
    "            # compute emission and state probabilities\n",
    "            emission_p = word_given_tag(words[key], tag)\n",
    "            state_probability = emission_p * transition_p    \n",
    "            p.append(state_probability)\n",
    "            \n",
    "        pmax = max(p)\n",
    "        # getting state for which probability is maximum\n",
    "        state_max = T[p.index(pmax)] \n",
    "        state.append(state_max)\n",
    "    return list(zip(words, state))"
   ]
  },
  {
   "cell_type": "markdown",
   "metadata": {},
   "source": [
    "### Solve the problem of unknown words"
   ]
  },
  {
   "cell_type": "markdown",
   "metadata": {},
   "source": [
    "## Improving Vanilla Viterbi"
   ]
  },
  {
   "cell_type": "markdown",
   "metadata": {},
   "source": [
    "### Approach 1: Considering transition probabilities as backoff for missing emission"
   ]
  },
  {
   "cell_type": "code",
   "execution_count": 74,
   "metadata": {},
   "outputs": [],
   "source": [
    "# Vanilla Viterbi with transition as backoff for missing emissions\n",
    "def Viterbi_transition_back(words, train_bag = train_tagged_words):\n",
    "    state = []\n",
    "    T = list(set([pair[1] for pair in train_bag]))\n",
    "    # training tags\n",
    "    for key, word in enumerate(words):\n",
    "        #initialise list of probability column for a given observation\n",
    "        p = [] \n",
    "        trans = []\n",
    "        for tag in T:\n",
    "            if key == 0:\n",
    "                transition_p = tags_df.loc['.', tag]\n",
    "            else:\n",
    "                transition_p = tags_df.loc[state[-1], tag]\n",
    "                \n",
    "            # compute emission and state probabilities\n",
    "            emission_p = word_given_tag(words[key], tag)\n",
    "            state_probability = emission_p * transition_p    \n",
    "            p.append(state_probability)\n",
    "            trans.append(transition_p)\n",
    "        pmax = max(p)\n",
    "        tmax = max(trans)\n",
    "        # getting state for which probability is maximum\n",
    "        if pmax != 0:       \n",
    "            state_max = T[p.index(pmax)] \n",
    "            state.append(state_max)\n",
    "        else:\n",
    "            state_max = T[trans.index(tmax)] \n",
    "            state.append(state_max)            \n",
    "    return list(zip(words, state))"
   ]
  },
  {
   "cell_type": "markdown",
   "metadata": {},
   "source": [
    "### Approach 2: Considering lexicon and rule based tagger as backoff for missing emissions"
   ]
  },
  {
   "cell_type": "code",
   "execution_count": 72,
   "metadata": {},
   "outputs": [],
   "source": [
    "regexp_tagger = nltk.RegexpTagger(\n",
    " [(r'^-?[0-9]+(.[0-9]+)?$', 'NUM'),   # cardinal numbers\n",
    "  (r'(The|the|A|a|An|an)$', 'DET'),   # articles\n",
    "  (r'.*able$', 'ADJ'),                # adjectives\n",
    "  (r'.*ness$', 'NOUN'),               # nouns formed from adjectives\n",
    "  (r'.*ly$', 'ADV'),                  # adverbs\n",
    "  (r'.*s$', 'NOUN'),                  # plural nouns\n",
    "  (r'.*ing$', 'VERB'),                # gerunds\n",
    "  (r'.*ed$', 'VERB'),                 # past tense verbs\n",
    "  (r'.*', 'NOUN')                     # nouns (default)\n",
    "])\n",
    "unigram_tagger = nltk.UnigramTagger(train_set,backoff=regexp_tagger)\n",
    "bigram_tagger = nltk.BigramTagger(train_set, backoff=unigram_tagger) "
   ]
  },
  {
   "cell_type": "code",
   "execution_count": 81,
   "metadata": {},
   "outputs": [],
   "source": [
    "def lexical_rule_tagger(word, tagger = bigram_tagger):\n",
    "    \"\"\"\n",
    "    Takes a word and retrieves the POS tag using rule based and regex\n",
    "    based tagger.\n",
    "    \n",
    "    @Author: Aryan Singh\n",
    "    \"\"\"\n",
    "    tag_tup = bigram_tagger.tag([word])\n",
    "    return tag_tup[0][1]"
   ]
  },
  {
   "cell_type": "code",
   "execution_count": 70,
   "metadata": {},
   "outputs": [],
   "source": [
    "# Vanilla Viterbi with lexical tagger as backoff\n",
    "def Viterbi_lexical_rule_back(words, train_bag = train_tagged_words):\n",
    "    state = []\n",
    "    T = list(set([pair[1] for pair in train_bag]))\n",
    "    # training tags\n",
    "    for key, word in enumerate(words):\n",
    "        #initialise list of probability column for a given observation\n",
    "        p = [] \n",
    "        for tag in T:\n",
    "            if key == 0:\n",
    "                transition_p = tags_df.loc['.', tag]\n",
    "            else:\n",
    "                transition_p = tags_df.loc[state[-1], tag]\n",
    "                \n",
    "            # compute emission and state probabilities\n",
    "            emission_p = word_given_tag(words[key], tag)\n",
    "            state_probability = emission_p * transition_p    \n",
    "            p.append(state_probability)\n",
    "        pmax = max(p)\n",
    "        # getting state for which probability is maximum\n",
    "        if pmax != 0:       \n",
    "            state_max = T[p.index(pmax)] \n",
    "            state.append(state_max)\n",
    "        else:\n",
    "            state.append(lexical_rule_tagger(word))            \n",
    "    return list(zip(words, state))"
   ]
  },
  {
   "cell_type": "markdown",
   "metadata": {},
   "source": [
    "### Compare the tagging accuracies of the modifications with the vanilla Viterbi algorithm"
   ]
  },
  {
   "cell_type": "code",
   "execution_count": 65,
   "metadata": {},
   "outputs": [],
   "source": [
    "actual_tagged_test = [tup for sent in test_set for tup in sent]\n",
    "test_words = [tup[0] for tup in actual_tagged_test]"
   ]
  },
  {
   "cell_type": "code",
   "execution_count": 67,
   "metadata": {},
   "outputs": [],
   "source": [
    "def get_tagging_accuracy(predicted_tagged_test, actual_tagged_test = actual_tagged_test):\n",
    "    \"\"\"\n",
    "    Method to determine tagging accuracy given predicted tagset and actual one.\n",
    "    \n",
    "    @Author Aryan Singh\n",
    "    \"\"\"\n",
    "    check = [i for i, j in zip(predicted_tagged_test, actual_tagged_test) if i == j]\n",
    "    accuracy = len(check)/len(predicted_tagged_test)\n",
    "    return accuracy"
   ]
  },
  {
   "cell_type": "markdown",
   "metadata": {},
   "source": [
    "**Accuracy for Vanila Viterbi Algorithm**"
   ]
  },
  {
   "cell_type": "code",
   "execution_count": 68,
   "metadata": {},
   "outputs": [
    {
     "name": "stdout",
     "output_type": "stream",
     "text": [
      "0.9050492858579763\n"
     ]
    }
   ],
   "source": [
    "predicted_tagged_test = Viterbi(test_words)\n",
    "accuracy = get_tagging_accuracy(predicted_tagged_test)\n",
    "print(accuracy)"
   ]
  },
  {
   "cell_type": "markdown",
   "metadata": {},
   "source": [
    "**Accuracy for Viterbi Heuristic HMM with transition probabilities as backup for missing Emission probabilities**"
   ]
  },
  {
   "cell_type": "code",
   "execution_count": 75,
   "metadata": {},
   "outputs": [
    {
     "name": "stdout",
     "output_type": "stream",
     "text": [
      "0.935827801247234\n"
     ]
    }
   ],
   "source": [
    "predicted_tagged_test = Viterbi_transition_back(test_words)\n",
    "accuracy = get_tagging_accuracy(predicted_tagged_test)\n",
    "print(accuracy)"
   ]
  },
  {
   "cell_type": "markdown",
   "metadata": {},
   "source": [
    "**Accuracy for Viterbi Heuristic HMM with lexical and rule based tagger as backup for missing Emission probabilities**"
   ]
  },
  {
   "cell_type": "code",
   "execution_count": 83,
   "metadata": {},
   "outputs": [
    {
     "name": "stdout",
     "output_type": "stream",
     "text": [
      "0.9509153087909877\n"
     ]
    }
   ],
   "source": [
    "predicted_tagged_test = Viterbi_lexical_rule_back(test_words)\n",
    "accuracy = get_tagging_accuracy(predicted_tagged_test)\n",
    "print(accuracy)"
   ]
  },
  {
   "cell_type": "markdown",
   "metadata": {},
   "source": [
    "### Compare the tagging accuracies on the test dataset"
   ]
  },
  {
   "cell_type": "markdown",
   "metadata": {},
   "source": [
    "Let's read in the sentences containing a lot of unseen words and compare the tag prediction of the three approaches. Using intution and knowledge of english grammar to see which wrongly predicted POS tags got corrected as the approaches evolved."
   ]
  },
  {
   "cell_type": "code",
   "execution_count": 103,
   "metadata": {},
   "outputs": [
    {
     "data": {
      "text/plain": [
       "['Android is a mobile operating system developed by Google.',\n",
       " 'Android has been the best-selling OS worldwide on smartphones since 2011 and on tablets since 2013.',\n",
       " \"Google and Twitter made a deal in 2015 that gave Google access to Twitter's firehose.\",\n",
       " 'Twitter is an online news and social networking service on which users post and interact with messages known as tweets.',\n",
       " 'Before entering politics, Donald Trump was a domineering businessman and a television personality.',\n",
       " 'The 2018 FIFA World Cup is the 21st FIFA World Cup, an international football tournament contested once every four years.',\n",
       " 'This is the first World Cup to be held in Eastern Europe and the 11th time that it has been held in Europe.',\n",
       " 'Show me the cheapest round trips from Dallas to Atlanta',\n",
       " 'I would like to see flights from Denver to Philadelphia.',\n",
       " 'Show me the price of the flights leaving Atlanta at about 3 in the afternoon and arriving in San Francisco.',\n",
       " 'NASA invited social media users to experience the launch of ICESAT-2 Satellite.']"
      ]
     },
     "execution_count": 103,
     "metadata": {},
     "output_type": "execute_result"
    }
   ],
   "source": [
    "import requests\n",
    "path = 'http://aryancodify.tech/wp-content/uploads/2018/10/Test_sentences.txt'\n",
    "f = requests.get(path)\n",
    "sentences = f.content.splitlines()\n",
    "sentences = map(lambda sen : sen.decode(\"utf-8\"),sentences)\n",
    "sentences = list(sentences)[:-3]\n",
    "sentences"
   ]
  },
  {
   "cell_type": "markdown",
   "metadata": {},
   "source": [
    "Now that we have the sentences, let's get the individual tokens, that were not present in our training dataset and check the accuracy for respective words."
   ]
  },
  {
   "cell_type": "code",
   "execution_count": 119,
   "metadata": {},
   "outputs": [],
   "source": [
    "from nltk.tokenize import word_tokenize\n",
    "token_lists = [word_tokenize(sentence) for sentence in sentences]\n",
    "tokens = [words for token_list in token_lists for words in token_list]"
   ]
  },
  {
   "cell_type": "code",
   "execution_count": 120,
   "metadata": {},
   "outputs": [
    {
     "name": "stdout",
     "output_type": "stream",
     "text": [
      "36\n"
     ]
    },
    {
     "data": {
      "text/plain": [
       "['Android', 'Google', 'Android', 'OS', 'worldwide']"
      ]
     },
     "execution_count": 120,
     "metadata": {},
     "output_type": "execute_result"
    }
   ],
   "source": [
    "unknown_tokens = [token for token in tokens if token not in V]\n",
    "print(len(unknown_tokens))\n",
    "unknown_tokens[:5]"
   ]
  },
  {
   "cell_type": "markdown",
   "metadata": {},
   "source": [
    "Now that we have unknown tokens let's see the predicted tags by the three approaches."
   ]
  },
  {
   "cell_type": "code",
   "execution_count": 121,
   "metadata": {},
   "outputs": [],
   "source": [
    "vanilla_tags = Viterbi(unknown_tokens)"
   ]
  },
  {
   "cell_type": "code",
   "execution_count": 122,
   "metadata": {},
   "outputs": [
    {
     "data": {
      "text/plain": [
       "[('Android', 'CONJ'),\n",
       " ('Google', 'CONJ'),\n",
       " ('Android', 'CONJ'),\n",
       " ('OS', 'CONJ'),\n",
       " ('worldwide', 'CONJ'),\n",
       " ('smartphones', 'CONJ'),\n",
       " ('2011', 'CONJ'),\n",
       " ('2013', 'CONJ'),\n",
       " ('Google', 'CONJ'),\n",
       " ('Twitter', 'CONJ')]"
      ]
     },
     "execution_count": 122,
     "metadata": {},
     "output_type": "execute_result"
    }
   ],
   "source": [
    "vanilla_tags[:10]"
   ]
  },
  {
   "cell_type": "markdown",
   "metadata": {},
   "source": [
    "Vanilla tag is predicting everything as conjunction which is completely wrong. Lets look at Vanilla viterbi with transition probabailties as back off."
   ]
  },
  {
   "cell_type": "code",
   "execution_count": 123,
   "metadata": {},
   "outputs": [
    {
     "data": {
      "text/plain": [
       "[('Android', 'NOUN'),\n",
       " ('Google', 'NOUN'),\n",
       " ('Android', 'NOUN'),\n",
       " ('OS', 'NOUN'),\n",
       " ('worldwide', 'NOUN'),\n",
       " ('smartphones', 'NOUN'),\n",
       " ('2011', 'NOUN'),\n",
       " ('2013', 'NOUN'),\n",
       " ('Google', 'NOUN'),\n",
       " ('Twitter', 'NOUN'),\n",
       " ('2015', 'NOUN'),\n",
       " ('Google', 'NOUN'),\n",
       " ('Twitter', 'NOUN'),\n",
       " ('firehose', 'NOUN'),\n",
       " ('Twitter', 'NOUN'),\n",
       " ('online', 'NOUN'),\n",
       " ('interact', 'NOUN'),\n",
       " ('messages', 'NOUN'),\n",
       " ('tweets', 'NOUN'),\n",
       " ('domineering', 'NOUN'),\n",
       " ('personality', 'NOUN'),\n",
       " ('2018', 'NOUN'),\n",
       " ('FIFA', 'NOUN'),\n",
       " ('Cup', 'NOUN'),\n",
       " ('21st', 'NOUN'),\n",
       " ('FIFA', 'NOUN'),\n",
       " ('Cup', 'NOUN'),\n",
       " ('tournament', 'NOUN'),\n",
       " ('contested', 'NOUN'),\n",
       " ('Cup', 'NOUN'),\n",
       " ('trips', 'NOUN'),\n",
       " ('arriving', 'NOUN'),\n",
       " ('NASA', 'NOUN'),\n",
       " ('invited', 'NOUN'),\n",
       " ('ICESAT-2', 'NOUN'),\n",
       " ('Satellite', 'NOUN')]"
      ]
     },
     "execution_count": 123,
     "metadata": {},
     "output_type": "execute_result"
    }
   ],
   "source": [
    "transition_viterbi_tags = Viterbi_transition_back(unknown_tokens)\n",
    "transition_viterbi_tags"
   ]
  },
  {
   "cell_type": "markdown",
   "metadata": {},
   "source": [
    "Transition viterbi is predicting everything as a noun which is better than the previous case but gives several wrong outputs like domineering is predicted as Noun, invited is also predicted as noun."
   ]
  },
  {
   "cell_type": "markdown",
   "metadata": {},
   "source": [
    "Now Let's try Viterbi with lexical and rule based back off."
   ]
  },
  {
   "cell_type": "code",
   "execution_count": 124,
   "metadata": {},
   "outputs": [
    {
     "data": {
      "text/plain": [
       "[('Android', 'NOUN'),\n",
       " ('Google', 'NOUN'),\n",
       " ('Android', 'NOUN'),\n",
       " ('OS', 'NOUN'),\n",
       " ('worldwide', 'NOUN'),\n",
       " ('smartphones', 'NOUN'),\n",
       " ('2011', 'NUM'),\n",
       " ('2013', 'NUM'),\n",
       " ('Google', 'NOUN'),\n",
       " ('Twitter', 'NOUN'),\n",
       " ('2015', 'NUM'),\n",
       " ('Google', 'NOUN'),\n",
       " ('Twitter', 'NOUN'),\n",
       " ('firehose', 'NOUN'),\n",
       " ('Twitter', 'NOUN'),\n",
       " ('online', 'NOUN'),\n",
       " ('interact', 'NOUN'),\n",
       " ('messages', 'NOUN'),\n",
       " ('tweets', 'NOUN'),\n",
       " ('domineering', 'VERB'),\n",
       " ('personality', 'NOUN'),\n",
       " ('2018', 'NUM'),\n",
       " ('FIFA', 'NOUN'),\n",
       " ('Cup', 'NOUN'),\n",
       " ('21st', 'NOUN'),\n",
       " ('FIFA', 'NOUN'),\n",
       " ('Cup', 'NOUN'),\n",
       " ('tournament', 'NOUN'),\n",
       " ('contested', 'VERB'),\n",
       " ('Cup', 'NOUN'),\n",
       " ('trips', 'NOUN'),\n",
       " ('arriving', 'VERB'),\n",
       " ('NASA', 'NOUN'),\n",
       " ('invited', 'VERB'),\n",
       " ('ICESAT-2', 'NOUN'),\n",
       " ('Satellite', 'NOUN')]"
      ]
     },
     "execution_count": 124,
     "metadata": {},
     "output_type": "execute_result"
    }
   ],
   "source": [
    "lexical_viterbi_tags = Viterbi_lexical_rule_back(unknown_tokens)\n",
    "lexical_viterbi_tags"
   ]
  },
  {
   "cell_type": "markdown",
   "metadata": {},
   "source": [
    "### List down cases which were incorrectly tagged by original POS tagger and got corrected by your modifications"
   ]
  },
  {
   "cell_type": "markdown",
   "metadata": {},
   "source": [
    "1. contested: tagged as Noun earlier, corrected to VERB\n",
    "2. 2018: tagged as Noun earlier, corrected to NUM\n",
    "3. arriving: tagged as Noun earlier, corrected to VERB"
   ]
  }
 ],
 "metadata": {
  "kernelspec": {
   "display_name": "Python 3",
   "language": "python",
   "name": "python3"
  },
  "language_info": {
   "codemirror_mode": {
    "name": "ipython",
    "version": 3
   },
   "file_extension": ".py",
   "mimetype": "text/x-python",
   "name": "python",
   "nbconvert_exporter": "python",
   "pygments_lexer": "ipython3",
   "version": "3.6.4"
  }
 },
 "nbformat": 4,
 "nbformat_minor": 2
}
