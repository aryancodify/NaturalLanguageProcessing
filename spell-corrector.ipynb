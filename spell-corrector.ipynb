{
 "cells": [
  {
   "cell_type": "code",
   "execution_count": 1,
   "metadata": {},
   "outputs": [],
   "source": [
    "import re\n",
    "from collections import Counter"
   ]
  },
  {
   "cell_type": "code",
   "execution_count": 2,
   "metadata": {},
   "outputs": [],
   "source": [
    "# function to tokenise words\n",
    "def words(document):\n",
    "    \"Convert text to lower case and tokenise the document\"\n",
    "    return re.findall(r'\\w+', document.lower())"
   ]
  },
  {
   "cell_type": "code",
   "execution_count": 3,
   "metadata": {},
   "outputs": [],
   "source": [
    "# create a frequency table of all the words of the document\n",
    "all_words = Counter(words(open('big.txt').read()))"
   ]
  },
  {
   "cell_type": "code",
   "execution_count": 4,
   "metadata": {},
   "outputs": [
    {
     "data": {
      "text/plain": [
       "135"
      ]
     },
     "execution_count": 4,
     "metadata": {},
     "output_type": "execute_result"
    }
   ],
   "source": [
    "# check frequency of a random word, say, 'chair'\n",
    "all_words['chair']"
   ]
  },
  {
   "cell_type": "code",
   "execution_count": 5,
   "metadata": {},
   "outputs": [
    {
     "data": {
      "text/plain": [
       "[('the', 79809),\n",
       " ('of', 40024),\n",
       " ('and', 38312),\n",
       " ('to', 28765),\n",
       " ('in', 22023),\n",
       " ('a', 21124),\n",
       " ('that', 12512),\n",
       " ('he', 12401),\n",
       " ('was', 11410),\n",
       " ('it', 10681)]"
      ]
     },
     "execution_count": 5,
     "metadata": {},
     "output_type": "execute_result"
    }
   ],
   "source": [
    "# look at top 10 frequent words\n",
    "all_words.most_common(10)"
   ]
  },
  {
   "cell_type": "code",
   "execution_count": 6,
   "metadata": {},
   "outputs": [],
   "source": [
    "def edits_one(word):\n",
    "    \"Create all edits that are one edit away from `word`.\"\n",
    "    alphabets    = 'abcdefghijklmnopqrstuvwxyz'\n",
    "    splits     = [(word[:i], word[i:])                   for i in range(len(word) + 1)]\n",
    "    deletes    = [left + right[1:]                       for left, right in splits if right]\n",
    "    inserts    = [left + c + right                       for left, right in splits for c in alphabets]\n",
    "    replaces   = [left + c + right[1:]                   for left, right in splits if right for c in alphabets]\n",
    "    transposes = [left + right[1] + right[0] + right[2:] for left, right in splits if len(right)>1]\n",
    "    return set(deletes + inserts + replaces + transposes)"
   ]
  },
  {
   "cell_type": "code",
   "execution_count": 7,
   "metadata": {},
   "outputs": [],
   "source": [
    "def edits_two(word):\n",
    "    \"Create all edits that are two edits away from `word`.\"\n",
    "    return (e2 for e1 in edits_one(word) for e2 in edits_one(e1))"
   ]
  },
  {
   "cell_type": "code",
   "execution_count": 8,
   "metadata": {},
   "outputs": [],
   "source": [
    "def known(words):\n",
    "    \"The subset of `words` that appear in the `all_words`.\"\n",
    "    return set(word for word in words if word in all_words)"
   ]
  },
  {
   "cell_type": "code",
   "execution_count": 9,
   "metadata": {},
   "outputs": [],
   "source": [
    "def possible_corrections(word):\n",
    "    \"Generate possible spelling corrections for word.\"\n",
    "    return (known([word]) or known(edits_one(word)) or known(edits_two(word)) or [word])"
   ]
  },
  {
   "cell_type": "code",
   "execution_count": 10,
   "metadata": {},
   "outputs": [],
   "source": [
    "def prob(word, N=sum(all_words.values())): \n",
    "    \"Probability of `word`: Number of appearances of 'word' / total number of tokens\"\n",
    "    return all_words[word] / N"
   ]
  },
  {
   "cell_type": "code",
   "execution_count": 11,
   "metadata": {},
   "outputs": [
    {
     "name": "stdout",
     "output_type": "stream",
     "text": [
      "442\n",
      "{'emdfasize', 'efmfasize', 'emfazsize', 'emfasizey', 'emfaxize', 'emfaoize', 'emfasiza', 'ezmfasize', 'emfasizv', 'oemfasize', 'nemfasize', 'tmfasize', 'emfxsize', 'emfzsize', 'emfasizc', 'emfaslze', 'emasize', 'emfasizeu', 'emfasizre', 'emfsaize', 'emfasizh', 'emfasizej', 'zmfasize', 'vmfasize', 'hmfasize', 'emfasxize', 'epfasize', 'emfavsize', 'emfasizn', 'emfxasize', 'emwfasize', 'emfagsize', 'eimfasize', 'emifasize', 'emfgasize', 'emfasiae', 'emqfasize', 'emfasioe', 'emfeasize', 'eofasize', 'emfasiwe', 'cmfasize', 'emfbasize', 'emfasidze', 'emxfasize', 'ekmfasize', 'wemfasize', 'emfasipze', 'emfasvize', 'emfjsize', 'emkfasize', 'eafasize', 'emzfasize', 'emfasizfe', 'emfacize', 'emfaszze', 'lemfasize', 'emtasize', 'emfasiwze', 'emfaspze', 'emfasqze', 'emfasizae', 'emwasize', 'emfaspize', 'bemfasize', 'qemfasize', 'emfasmize', 'emdasize', 'emfazize', 'emyfasize', 'emfasizeb', 'emfasrize', 'emfasice', 'emfasieze', 'emfaxsize', 'emfasizy', 'femfasize', 'emfsasize', 'emfasizep', 'ecfasize', 'emfasizx', 'emfasizge', 'emfasizhe', 'emfastze', 'emyasize', 'emfvasize', 'emfpasize', 'emfaszie', 'emfasoize', 'emfaseize', 'emfabsize', 'emfasizea', 'emefasize', 'exmfasize', 'ewfasize', 'emfasizze', 'emhfasize', 'emfasijze', 'emfasizf', 'emfaasize', 'emfausize', 'emfasizef', 'emfisize', 'emaasize', 'zemfasize', 'emfnasize', 'emfassze', 'empasize', 'emfasizpe', 'emfaize', 'emfaaize', 'emfawsize', 'emfasbze', 'emfasizez', 'emfasizer', 'emfyasize', 'emfasmze', 'emfaisize', 'emfasiize', 'emfssize', 'eemfasize', 'etfasize', 'emfasizme', 'pemfasize', 'emfasizq', 'emfasizue', 'emfabize', 'emfasizie', 'emfasizje', 'eqmfasize', 'emfasizm', 'emfayize', 'kmfasize', 'emgfasize', 'elfasize', 'emfasitze', 'emfasizee', 'emfasixe', 'mefasize', 'emfasfze', 'emfasiye', 'emfasjze', 'pmfasize', 'emfrsize', 'emfaszize', 'ewmfasize', 'emfasizk', 'ermfasize', 'gmfasize', 'emfashize', 'emfasiaze', 'aemfasize', 'eifasize', 'emtfasize', 'emfasite', 'emfawize', 'eamfasize', 'emfatsize', 'emfasizte', 'emfysize', 'emrfasize', 'emfadsize', 'emfaswize', 'emfasikze', 'lmfasize', 'emfasise', 'dmfasize', 'eqfasize', 'emflsize', 'emfascze', 'emsfasize', 'mmfasize', 'emuasize', 'emcfasize', 'evfasize', 'ymfasize', 'amfasize', 'emfashze', 'emfasije', 'emfasizl', 'emfanize', 'emfdsize', 'empfasize', 'emfasize', 'emfmsize', 'egmfasize', 'emfasiuze', 'bmfasize', 'emfuasize', 'emfasiez', 'gemfasize', 'emftasize', 'emfassize', 'ejmfasize', 'jmfasize', 'emfasile', 'emflasize', 'emlfasize', 'esmfasize', 'efasize', 'emfasizt', 'emfesize', 'emfasaize', 'eyfasize', 'embasize', 'iemfasize', 'emfasizg', 'emfkasize', 'emfamize', 'emfasizw', 'emfauize', 'semfasize', 'emfasuze', 'emfasive', 'emfasizem', 'umfasize', 'emfasige', 'emftsize', 'emfmasize', 'esfasize', 'emlasize', 'emfasizew', 'emfasizeo', 'enmfasize', 'emfasivze', 'emfamsize', 'emfaosize', 'emfwsize', 'emiasize', 'emfasirze', 'emfajsize', 'ekfasize', 'emfasizke', 'emfasized', 'emfarsize', 'emfaslize', 'emfafize', 'eufasize', 'emfasine', 'emfasaze', 'emfasizeq', 'eefasize', 'elmfasize', 'emfsize', 'emhasize', 'emfasizeh', 'demfasize', 'emfasizse', 'emfaeize', 'emfasiz', 'ecmfasize', 'emffasize', 'emfasihe', 'emfasxze', 'remfasize', 'emmfasize', 'edmfasize', 'emfasilze', 'emfasiqe', 'emfaskize', 'emofasize', 'omfasize', 'rmfasize', 'emkasize', 'eomfasize', 'emfastize', 'emfasizec', 'emgasize', 'emfasiyze', 'emfasizde', 'emfasifze', 'emfvsize', 'emfasrze', 'emfasioze', 'emfcsize', 'emfasizet', 'emfaisze', 'erfasize', 'nmfasize', 'emfasizle', 'emfasizex', 'yemfasize', 'emsasize', 'emfasipe', 'emfasizi', 'emfasizz', 'emfrasize', 'smfasize', 'emfpsize', 'emfasinze', 'imfasize', 'egfasize', 'emjasize', 'emfasihze', 'epmfasize', 'kemfasize', 'emfascize', 'exfasize', 'xemfasize', 'emfzasize', 'emfaiize', 'ehmfasize', 'emxasize', 'emeasize', 'emfadize', 'emfasyize', 'emfasizeg', 'emfasdize', 'emfqsize', 'emfasizj', 'emfasizce', 'temfasize', 'emfasvze', 'emfasizoe', 'emfasnze', 'emfasie', 'ezfasize', 'emfwasize', 'mfasize', 'emfasizev', 'ebfasize', 'memfasize', 'emmasize', 'emfasizqe', 'emfasfize', 'emfahsize', 'emfasizne', 'emfasibze', 'wmfasize', 'emfasizwe', 'emvfasize', 'emfgsize', 'emfasdze', 'eymfasize', 'emfusize', 'emfasiee', 'emrasize', 'emfaside', 'emfaseze', 'etmfasize', 'emfasigze', 'emfasuize', 'emfasiie', 'emfaksize', 'emfoasize', 'emafasize', 'emfasizr', 'emfaqize', 'emfalize', 'emfasizu', 'emfasizes', 'emfasire', 'emffsize', 'emfasbize', 'emfasixze', 'emfasizei', 'emfasizel', 'emfdasize', 'emfasibe', 'jemfasize', 'emnfasize', 'vemfasize', 'emfafsize', 'emfasizen', 'emfagize', 'emfksize', 'emfasnize', 'emfasiue', 'emfasicze', 'emcasize', 'emfcasize', 'emfasizp', 'emfasife', 'emfjasize', 'emfasgze', 'evmfasize', 'emfasisze', 'emzasize', 'emnasize', 'emfakize', 'emfasizve', 'emfaysize', 'efmasize', 'emfasimze', 'fmfasize', 'embfasize', 'emfajize', 'emfqasize', 'hemfasize', 'emfasiqze', 'emfasizxe', 'emfasizo', 'emfasizs', 'emfosize', 'emfarize', 'emfacsize', 'emfasgize', 'emqasize', 'emfasime', 'emoasize', 'emfasjize', 'emfahize', 'emfasizye', 'emfbsize', 'emfapsize', 'emvasize', 'emfhasize', 'emfavize', 'emfasze', 'ejfasize', 'emafsize', 'uemfasize', 'emfalsize', 'eumfasize', 'emfasizd', 'emfhsize', 'emfaqsize', 'qmfasize', 'emfnsize', 'cemfasize', 'emfaswze', 'emjfasize', 'edfasize', 'xmfasize', 'ebmfasize', 'emfaesize', 'emfasizb', 'emfansize', 'emfapize', 'emfasoze', 'emufasize', 'emfaskze', 'enfasize', 'emfasike', 'emfasyze', 'effasize', 'emfatize', 'ehfasize', 'emfiasize', 'emfasqize', 'emfasizek', 'emfasizbe'}\n"
     ]
    }
   ],
   "source": [
    "print(len(set(edits_one(\"emfasize\"))))\n",
    "print(edits_one(\"emfasize\"))"
   ]
  },
  {
   "cell_type": "code",
   "execution_count": null,
   "metadata": {},
   "outputs": [],
   "source": [
    "print(known(edits_one(\"emfasize\")))"
   ]
  },
  {
   "cell_type": "code",
   "execution_count": 12,
   "metadata": {},
   "outputs": [
    {
     "name": "stdout",
     "output_type": "stream",
     "text": [
      "90902\n",
      "set()\n"
     ]
    }
   ],
   "source": [
    "# Let's look at words that are two edits away\n",
    "print(len(set(edits_two(\"emfasize\"))))\n",
    "print(known(edits_one(\"emfasize\")))"
   ]
  },
  {
   "cell_type": "code",
   "execution_count": 13,
   "metadata": {},
   "outputs": [
    {
     "name": "stdout",
     "output_type": "stream",
     "text": [
      "{'emphasize'}\n"
     ]
    }
   ],
   "source": [
    "# Let's look at possible corrections of a word\n",
    "print(possible_corrections(\"emfasize\"))"
   ]
  },
  {
   "cell_type": "code",
   "execution_count": null,
   "metadata": {},
   "outputs": [],
   "source": [
    "# Let's look at probability of a word\n",
    "print(prob(\"money\"))\n",
    "print(prob(\"monkey\"))"
   ]
  },
  {
   "cell_type": "code",
   "execution_count": null,
   "metadata": {},
   "outputs": [],
   "source": [
    "def spell_check(word):\n",
    "    \"Print the most probable spelling correction for `word` out of all the `possible_corrections`\"\n",
    "    correct_word = max(possible_corrections(word), key=prob)\n",
    "    if correct_word != word:\n",
    "        return \"Did you mean \" + correct_word + \"?\"\n",
    "    else:\n",
    "        return \"Correct spelling.\""
   ]
  },
  {
   "cell_type": "code",
   "execution_count": null,
   "metadata": {},
   "outputs": [],
   "source": [
    "# test spell check\n",
    "print(spell_check(\"monney\"))"
   ]
  }
 ],
 "metadata": {
  "kernelspec": {
   "display_name": "Python 3",
   "language": "python",
   "name": "python3"
  },
  "language_info": {
   "codemirror_mode": {
    "name": "ipython",
    "version": 3
   },
   "file_extension": ".py",
   "mimetype": "text/x-python",
   "name": "python",
   "nbconvert_exporter": "python",
   "pygments_lexer": "ipython3",
   "version": "3.6.4"
  }
 },
 "nbformat": 4,
 "nbformat_minor": 2
}
